{
  "nbformat": 4,
  "nbformat_minor": 0,
  "metadata": {
    "colab": {
      "provenance": []
    },
    "kernelspec": {
      "name": "python3",
      "display_name": "Python 3"
    },
    "language_info": {
      "name": "python"
    }
  },
  "cells": [
    {
      "cell_type": "markdown",
      "source": [
        "0. Tools I got familiar with with this assignment:\n",
        "   1. The Python programming language\n",
        "   2. Packages to be used: numpy, matplotlib, seaborn, pandas and sci-kit learn"
      ],
      "metadata": {
        "id": "jJJ6zlfYJYXd"
      }
    },
    {
      "cell_type": "code",
      "source": [
        "import matplotlib.pyplot as plt\n",
        "import pandas as pd\n",
        "from sklearn.model_selection import train_test_split\n",
        "from sklearn.linear_model import LinearRegression\n",
        "from sklearn.metrics import mean_squared_error, r2_score"
      ],
      "metadata": {
        "id": "h4dmivp_JVni"
      },
      "execution_count": null,
      "outputs": []
    },
    {
      "cell_type": "markdown",
      "source": [
        "00. Consider the following Concrete Compressive Strength dataset\n"
      ],
      "metadata": {
        "id": "gnbRtj2BJkpx"
      }
    },
    {
      "cell_type": "code",
      "source": [
        "data = pd.read_csv(\"Concrete_Data.csv\")"
      ],
      "metadata": {
        "id": "eMY8ffEmJqgP"
      },
      "execution_count": null,
      "outputs": []
    },
    {
      "cell_type": "markdown",
      "source": [
        "1. The first 8 columns indicate features such as cement quantity, age, etc.\n",
        "These are to be used to predict the final column ‘Concrete compressive\n",
        "strength(MPa, megapascals)’ which is the Target variable (that is, the\n",
        "predicted variable). Divide the dataset into Training, Test datasets using a\n",
        "70:30 ratio.\n"
      ],
      "metadata": {
        "id": "HLSyCk-4JtW7"
      }
    },
    {
      "cell_type": "code",
      "source": [
        "Concrete_X_Features = data.iloc[:, :-1]\n",
        "Concrete_y_Compressive_Strength = data.iloc[:, -1]\n",
        "\n",
        "Concrete_X_Features_train, Concrete_X_Features_test, Concrete_y_Compressive_Strength_train, Concrete_y_Compressive_Strength_test = train_test_split(Concrete_X_Features, Concrete_y_Compressive_Strength, test_size=0.3,random_state=0)"
      ],
      "metadata": {
        "id": "a31dvG4CKAZC"
      },
      "execution_count": null,
      "outputs": []
    },
    {
      "cell_type": "code",
      "source": [
        "print('Concrete_X_Features_train.size =',Concrete_X_Features_train.size)\n",
        "print('Concrete_X_Features_test.size =', Concrete_X_Features_test.size)\n",
        "print('Concerte_y_Compressive_Strength_train.size =',Concrete_y_Compressive_Strength_train.size)\n",
        "print('Concerte_y_Compressive_Strength_test.size = ', Concrete_y_Compressive_Strength_test.size)\n",
        "print()\n",
        "print('Train Dataset Ratios')\n",
        "print('Concrete_X_Features Ratio =',Concrete_X_Features_train.size*100/Concrete_X_Features.size, ':',\n",
        "                                    Concrete_X_Features_test.size*100/Concrete_X_Features.size )\n",
        "print('Concrete_y_Compressive_Strength =', Concrete_y_Compressive_Strength_train.size*100/Concrete_y_Compressive_Strength.size,':',\n",
        "                                           Concrete_y_Compressive_Strength_test.size*100/Concrete_y_Compressive_Strength.size)"
      ],
      "metadata": {
        "colab": {
          "base_uri": "https://localhost:8080/"
        },
        "id": "tS21Aph-KwB2",
        "outputId": "778867fc-b4f6-4548-db0e-8c694ebbfa51"
      },
      "execution_count": null,
      "outputs": [
        {
          "output_type": "stream",
          "name": "stdout",
          "text": [
            "Concrete_X_Features_train.size = 5768\n",
            "Concrete_X_Features_test.size = 2472\n",
            "Concerte_y_Compressive_Strength_train.size = 721\n",
            "Concerte_y_Compressive_Strength_test.size =  309\n",
            "\n",
            "Train Dataset Ratios\n",
            "Concrete_X_Features Ratio = 70.0 : 30.0\n",
            "Concrete_y_Compressive_Strength = 70.0 : 30.0\n"
          ]
        }
      ]
    },
    {
      "cell_type": "markdown",
      "source": [
        "2. Obtain a linear regression fit for predicting the compressive strength from\n",
        "fitting the linear regression model on just the Training dataset. Use\n",
        "R-squared value (coefficient of determination) and mean Square error as\n",
        "evaluation metrics"
      ],
      "metadata": {
        "id": "fsr7spETLxmM"
      }
    },
    {
      "cell_type": "code",
      "source": [
        "reg = LinearRegression()\n",
        "regression  = reg.fit(Concrete_X_Features_train, Concrete_y_Compressive_Strength_train)\n",
        "Concrete_y_Compressive_Strength_pred = reg.predict(Concrete_X_Features_test)\n",
        "\n",
        "\n",
        "Mean_Squared_Error_train = mean_squared_error(Concrete_y_Compressive_Strength_train, reg.predict(Concrete_X_Features_train))\n",
        "\n",
        "R_squared_Value_train = r2_score(Concrete_y_Compressive_Strength_train, reg.predict(Concrete_X_Features_train))\n",
        "\n",
        "Mean_Squared_Error_test = mean_squared_error(Concrete_y_Compressive_Strength_test, Concrete_y_Compressive_Strength_pred)\n",
        "\n",
        "R_squared_Value_test = r2_score(Concrete_y_Compressive_Strength_test, Concrete_y_Compressive_Strength_pred)"
      ],
      "metadata": {
        "id": "W6RVQu8kLxUo"
      },
      "execution_count": null,
      "outputs": []
    },
    {
      "cell_type": "markdown",
      "source": [
        "3. Using the trained model, predict the value of ‘Concrete compressive\n",
        "strength’ for the given Test data in the submission.csv file"
      ],
      "metadata": {
        "id": "e7Ov2g_NONgf"
      }
    },
    {
      "cell_type": "code",
      "source": [
        "Concrete_y_Compressive_Strength_pred = reg.predict(Concrete_X_Features_test)\n",
        "\n",
        "\n",
        "submission = pd.DataFrame({'y_pred': Concrete_y_Compressive_Strength_pred})\n",
        "submission.to_csv('submission.csv', index=False)"
      ],
      "metadata": {
        "id": "JS0TResJOErD"
      },
      "execution_count": null,
      "outputs": []
    },
    {
      "cell_type": "markdown",
      "source": [
        "4. Obtain the following values.\n",
        "\n",
        "a. Mean Squared error and R-squared value for training data and test\n",
        "data respectively.\n",
        "\n"
      ],
      "metadata": {
        "id": "AZRbCP8mMmXI"
      }
    },
    {
      "cell_type": "code",
      "source": [
        "Mean_Squared_Error_train = mean_squared_error(Concrete_y_Compressive_Strength_train, reg.predict(Concrete_X_Features_train))\n",
        "\n",
        "R_squared_Value_train = r2_score(Concrete_y_Compressive_Strength_train, reg.predict(Concrete_X_Features_train))\n",
        "\n",
        "Mean_Squared_Error_test = mean_squared_error(Concrete_y_Compressive_Strength_test, Concrete_y_Compressive_Strength_pred)\n",
        "\n",
        "R_squared_Value_test = r2_score(Concrete_y_Compressive_Strength_test, Concrete_y_Compressive_Strength_pred)\n",
        "\n",
        "\n",
        "print('Mean Squared Error for training data:', Mean_Squared_Error_train)\n",
        "print(\"R-squared Value for training data:\", R_squared_Value_train)\n",
        "print(\"Mean Squared Error for test data:\",Mean_Squared_Error_test)\n",
        "print(\"R-squared Value for test data:\", R_squared_Value_test)"
      ],
      "metadata": {
        "colab": {
          "base_uri": "https://localhost:8080/"
        },
        "id": "4lOMMSX0Mnr0",
        "outputId": "0461f373-736d-43b2-8bd2-39b56461581b"
      },
      "execution_count": null,
      "outputs": [
        {
          "output_type": "stream",
          "name": "stdout",
          "text": [
            "Mean Squared Error for training data: 113.39276287915223\n",
            "R-squared Value for training data: 0.6066613439796211\n",
            "Mean Squared Error for test data: 93.61873598596337\n",
            "R-squared Value for test data: 0.6352987285077925\n"
          ]
        }
      ]
    },
    {
      "cell_type": "markdown",
      "source": [
        "b. Plot the scatter plot for ytrue against ypredicted\n",
        "for training and test data\n",
        "respectively."
      ],
      "metadata": {
        "id": "95rZ2XuGMzdf"
      }
    },
    {
      "cell_type": "code",
      "source": [
        "plt.scatter(Concrete_y_Compressive_Strength_train, reg.predict(Concrete_X_Features_train), c='blue', label='Training data')\n",
        "plt.scatter(Concrete_y_Compressive_Strength_test, Concrete_y_Compressive_Strength_pred, c='red', label='Test data')\n",
        "plt.xlabel('Ground Truth Concrete Compressive Strength in MPa')\n",
        "plt.ylabel('Predicted Concrete Compressive Strength in MPa')\n",
        "plt.legend()\n",
        "plt.show()"
      ],
      "metadata": {
        "colab": {
          "base_uri": "https://localhost:8080/",
          "height": 293
        },
        "id": "CYBmTD_8M630",
        "outputId": "fabbc767-365d-4ff1-f0d9-4589a95c9cea"
      },
      "execution_count": null,
      "outputs": [
        {
          "output_type": "display_data",
          "data": {
            "text/plain": [
              "<Figure size 432x288 with 1 Axes>"
            ],
            "image/png": "[encoded data removed]"
          },
          "metadata": {
            "needs_background": "light"
          }
        }
      ]
    },
    {
      "cell_type": "markdown",
      "source": [
        "5. Upload the sumission.csv file and submit the code as a single .ipynb file.\n",
        "We will provide details of the submission process later in class."
      ],
      "metadata": {
        "id": "X36jJC96v5N-"
      }
    },
    {
      "cell_type": "code",
      "source": [],
      "metadata": {
        "id": "i8n_DL9Yv6RP"
      },
      "execution_count": null,
      "outputs": []
    }
  ]
}